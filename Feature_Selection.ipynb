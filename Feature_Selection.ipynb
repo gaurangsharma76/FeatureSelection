{
  "cells": [
    {
      "cell_type": "markdown",
      "metadata": {
        "id": "NQpVgl_dUfUF"
      },
      "source": [
        "# <center> <u> Feature Selection </u> </center>"
      ]
    },
    {
      "cell_type": "markdown",
      "metadata": {
        "id": "8q8DsGqqaj5I"
      },
      "source": [
        "![image.png](attachment:image.png)"
      ]
    },
    {
      "cell_type": "code",
      "execution_count": 1,
      "metadata": {
        "id": "UJ21CD6Kaj5I"
      },
      "outputs": [],
      "source": [
        "#import these libraries as we are going to use them. \n",
        "# Note: just have a look what all libraries you have imported\n",
        "import pandas as pd\n",
        "import numpy as np\n",
        "\n",
        "\n",
        "from sklearn.feature_selection import SelectFromModel\n",
        "from sklearn.model_selection import train_test_split\n",
        "\n",
        "from sklearn.tree import DecisionTreeClassifier\n",
        "from sklearn.preprocessing import StandardScaler\n",
        "from sklearn.ensemble import RandomForestClassifier\n",
        "from sklearn.metrics import roc_auc_score\n",
        "from sklearn.preprocessing import StandardScaler\n",
        "from sklearn.pipeline import make_pipeline\n",
        "from sklearn.model_selection import KFold\n",
        "from sklearn.neighbors import KNeighborsRegressor\n",
        "from sklearn.metrics import mean_squared_error, r2_score\n",
        "from sklearn.model_selection import cross_val_predict\n",
        "from sklearn.linear_model import LinearRegression\n",
        "from math import sqrt"
      ]
    },
    {
      "cell_type": "markdown",
      "metadata": {
        "id": "eJq8gz-jaj5J"
      },
      "source": [
        "## 1.Filter Methods:\n",
        "\n",
        "\n",
        "\n",
        "\n",
        "a. Missing Value Ratio Threshold\n"
      ]
    },
    {
      "cell_type": "code",
      "execution_count": 2,
      "metadata": {
        "id": "6PCV3CqZaj5L",
        "outputId": "4a4e6ad5-0aa0-4aa4-8ba9-1fd6e26cd794",
        "colab": {
          "base_uri": "https://localhost:8080/"
        }
      },
      "outputs": [
        {
          "output_type": "stream",
          "name": "stdout",
          "text": [
            "   Pregnancies  Glucose  BloodPressure  SkinThickness  Insulin   BMI  \\\n",
            "0            6      148             72             35        0  33.6   \n",
            "1            1       85             66             29        0  26.6   \n",
            "2            8      183             64              0        0  23.3   \n",
            "3            1       89             66             23       94  28.1   \n",
            "4            0      137             40             35      168  43.1   \n",
            "\n",
            "   DiabetesPedigreeFunction  Age  Outcome  \n",
            "0                     0.627   50        1  \n",
            "1                     0.351   31        0  \n",
            "2                     0.672   32        1  \n",
            "3                     0.167   21        0  \n",
            "4                     2.288   33        1  \n"
          ]
        }
      ],
      "source": [
        "# create a data frame named diabetes and load the csv file\n",
        "diabetes = pd.read_csv(\"/content/diabetes.csv\")\n",
        "#print the head \n",
        "print(diabetes.head())"
      ]
    },
    {
      "cell_type": "code",
      "execution_count": 3,
      "metadata": {
        "id": "KYs_ts8daj5M"
      },
      "outputs": [],
      "source": [
        "#Glucose BloodPressure, SkinThickness, Insulin, and BMI features cannot be zero ,we will impute zeros with nan value in these features.\n",
        "diabetes['Glucose'].replace(0, np.nan, inplace=True)\n",
        "diabetes['BloodPressure'].replace(0, np.nan, inplace=True)\n",
        "diabetes['SkinThickness'].replace(0, np.nan, inplace=True)\n",
        "diabetes['Insulin'].replace(0, np.nan, inplace=True)\n",
        "diabetes['BMI'].replace(0, np.nan, inplace=True)\n"
      ]
    },
    {
      "cell_type": "code",
      "execution_count": 4,
      "metadata": {
        "id": "6VgvbdiZaj5N",
        "outputId": "66d27860-350f-4e2a-fa36-a0bdb0ce733b",
        "colab": {
          "base_uri": "https://localhost:8080/"
        }
      },
      "outputs": [
        {
          "output_type": "stream",
          "name": "stdout",
          "text": [
            "Pregnancies                   0\n",
            "Glucose                       5\n",
            "BloodPressure                35\n",
            "SkinThickness               227\n",
            "Insulin                     374\n",
            "BMI                          11\n",
            "DiabetesPedigreeFunction      0\n",
            "Age                           0\n",
            "Outcome                       0\n",
            "dtype: int64\n"
          ]
        }
      ],
      "source": [
        "#display the no of null values in each feature\n",
        "missing_values = diabetes.isna().sum()\n",
        "print(missing_values)"
      ]
    },
    {
      "cell_type": "code",
      "execution_count": 5,
      "metadata": {
        "id": "3s04Hkhwaj5O",
        "outputId": "e2cf616d-f65e-4dd6-84e9-121380c0c3de",
        "colab": {
          "base_uri": "https://localhost:8080/"
        }
      },
      "outputs": [
        {
          "output_type": "stream",
          "name": "stdout",
          "text": [
            "0.6510416666666667\n"
          ]
        }
      ],
      "source": [
        "#percentage of missing values for Glucose\n",
        "print(((missing_values['Glucose'] / len(diabetes)) * 100))\n"
      ]
    },
    {
      "cell_type": "code",
      "execution_count": 6,
      "metadata": {
        "id": "hsrPE1zvaj5O",
        "outputId": "9fedb817-fa8d-4249-e706-08ec1e8a9add",
        "colab": {
          "base_uri": "https://localhost:8080/"
        }
      },
      "outputs": [
        {
          "output_type": "stream",
          "name": "stdout",
          "text": [
            "4.557291666666666\n"
          ]
        }
      ],
      "source": [
        "# calculate the percentage for Bloodpressure\n",
        "print(((missing_values['BloodPressure'] / len(diabetes)) * 100))"
      ]
    },
    {
      "cell_type": "code",
      "execution_count": 7,
      "metadata": {
        "id": "DB3HJVzLaj5O",
        "outputId": "4ecdf8b7-2bdd-4d85-d8c2-9c9888624117",
        "colab": {
          "base_uri": "https://localhost:8080/"
        }
      },
      "outputs": [
        {
          "output_type": "stream",
          "name": "stdout",
          "text": [
            "29.557291666666668\n"
          ]
        }
      ],
      "source": [
        "# calculate the percentage for SkinThickness\n",
        "print(((missing_values['SkinThickness'] / len(diabetes)) * 100))"
      ]
    },
    {
      "cell_type": "code",
      "execution_count": 8,
      "metadata": {
        "id": "XrjBSOypaj5O",
        "outputId": "3d9b43ba-fdc2-4ed5-fde0-23526f9b0f5e",
        "colab": {
          "base_uri": "https://localhost:8080/"
        }
      },
      "outputs": [
        {
          "output_type": "stream",
          "name": "stdout",
          "text": [
            "48.69791666666667\n"
          ]
        }
      ],
      "source": [
        "# calculate the percentage for Insulin\n",
        "print(((missing_values['Insulin'] / len(diabetes)) * 100))"
      ]
    },
    {
      "cell_type": "code",
      "execution_count": 9,
      "metadata": {
        "id": "BrREtN4raj5P",
        "outputId": "c4d11bc3-42ef-4eb2-84f7-9c401861f447",
        "colab": {
          "base_uri": "https://localhost:8080/"
        }
      },
      "outputs": [
        {
          "output_type": "stream",
          "name": "stdout",
          "text": [
            "1.4322916666666665\n"
          ]
        }
      ],
      "source": [
        "# calculate the percentage for BMI\n",
        "print(((missing_values['BMI'] / len(diabetes)) * 100))"
      ]
    },
    {
      "cell_type": "code",
      "execution_count": 10,
      "metadata": {
        "id": "gFA6BHk3aj5P",
        "outputId": "0392ad99-e46c-4879-a601-9a83e787e1af",
        "colab": {
          "base_uri": "https://localhost:8080/"
        }
      },
      "outputs": [
        {
          "output_type": "stream",
          "name": "stdout",
          "text": [
            "     Pregnancies  Glucose  BloodPressure   BMI  DiabetesPedigreeFunction  Age  \\\n",
            "0              6    148.0           72.0  33.6                     0.627   50   \n",
            "1              1     85.0           66.0  26.6                     0.351   31   \n",
            "2              8    183.0           64.0  23.3                     0.672   32   \n",
            "3              1     89.0           66.0  28.1                     0.167   21   \n",
            "4              0    137.0           40.0  43.1                     2.288   33   \n",
            "..           ...      ...            ...   ...                       ...  ...   \n",
            "763           10    101.0           76.0  32.9                     0.171   63   \n",
            "764            2    122.0           70.0  36.8                     0.340   27   \n",
            "765            5    121.0           72.0  26.2                     0.245   30   \n",
            "766            1    126.0           60.0  30.1                     0.349   47   \n",
            "767            1     93.0           70.0  30.4                     0.315   23   \n",
            "\n",
            "     Outcome  \n",
            "0          1  \n",
            "1          0  \n",
            "2          1  \n",
            "3          0  \n",
            "4          1  \n",
            "..       ...  \n",
            "763        0  \n",
            "764        0  \n",
            "765        0  \n",
            "766        1  \n",
            "767        0  \n",
            "\n",
            "[768 rows x 7 columns]\n"
          ]
        }
      ],
      "source": [
        "#we are keep only those features which are having missing data less than 10% \n",
        "\n",
        "diabetes_missing_value_threshold= diabetes.dropna(thresh=int(diabetes.shape[0]*.9),axis=1)\n",
        "\n",
        "# print diabetes_missing_value_threshold\n",
        "print(diabetes_missing_value_threshold)"
      ]
    },
    {
      "cell_type": "code",
      "execution_count": 11,
      "metadata": {
        "id": "aOLvKyAgaj5Q"
      },
      "outputs": [],
      "source": [
        "diabetes_missing_value_threshold_features=diabetes_missing_value_threshold.drop('Outcome',axis=1)\n",
        "diabetes_missing_value_threshold_label = diabetes_missing_value_threshold['Outcome']\n",
        " "
      ]
    },
    {
      "cell_type": "code",
      "execution_count": 12,
      "metadata": {
        "id": "eIK9rvCfaj5Q",
        "outputId": "aac7f15f-1d2f-47ee-c1e3-a76207d12e03",
        "colab": {
          "base_uri": "https://localhost:8080/"
        }
      },
      "outputs": [
        {
          "output_type": "stream",
          "name": "stdout",
          "text": [
            "     Pregnancies  Glucose  BloodPressure   BMI  DiabetesPedigreeFunction  Age\n",
            "0              6    148.0           72.0  33.6                     0.627   50\n",
            "1              1     85.0           66.0  26.6                     0.351   31\n",
            "2              8    183.0           64.0  23.3                     0.672   32\n",
            "3              1     89.0           66.0  28.1                     0.167   21\n",
            "4              0    137.0           40.0  43.1                     2.288   33\n",
            "..           ...      ...            ...   ...                       ...  ...\n",
            "763           10    101.0           76.0  32.9                     0.171   63\n",
            "764            2    122.0           70.0  36.8                     0.340   27\n",
            "765            5    121.0           72.0  26.2                     0.245   30\n",
            "766            1    126.0           60.0  30.1                     0.349   47\n",
            "767            1     93.0           70.0  30.4                     0.315   23\n",
            "\n",
            "[768 rows x 6 columns]\n"
          ]
        }
      ],
      "source": [
        "#print diabetes_missing_value_threshold_features\n",
        "print(diabetes_missing_value_threshold_features)"
      ]
    },
    {
      "cell_type": "code",
      "execution_count": 13,
      "metadata": {
        "id": "xB1-mgODaj5Q",
        "outputId": "32dc61de-1a27-4ee9-d54b-42d63b9e3ba5",
        "colab": {
          "base_uri": "https://localhost:8080/"
        }
      },
      "outputs": [
        {
          "output_type": "stream",
          "name": "stdout",
          "text": [
            "0      1\n",
            "1      0\n",
            "2      1\n",
            "3      0\n",
            "4      1\n",
            "      ..\n",
            "763    0\n",
            "764    0\n",
            "765    0\n",
            "766    1\n",
            "767    0\n",
            "Name: Outcome, Length: 768, dtype: int64\n"
          ]
        }
      ],
      "source": [
        "#print diabetes_missing_value_threshold_label\n",
        "print(diabetes_missing_value_threshold_label)"
      ]
    },
    {
      "cell_type": "markdown",
      "metadata": {
        "id": "DyxgzJoNaj5Q"
      },
      "source": [
        "## (b) Variance Threshold\n",
        "\n"
      ]
    },
    {
      "cell_type": "code",
      "source": [
        "# create a data frame named diabetes and load the csv file\n",
        "diabetes = pd.read_csv(\"/content/diabetes_cleaned.csv\")\n",
        "#print the head \n",
        "print(diabetes.head())"
      ],
      "metadata": {
        "colab": {
          "base_uri": "https://localhost:8080/"
        },
        "id": "lX9i0L49ZSdH",
        "outputId": "c8066a6f-0fa2-4a2e-a09e-e76b6af5b3fc"
      },
      "execution_count": 14,
      "outputs": [
        {
          "output_type": "stream",
          "name": "stdout",
          "text": [
            "   Pregnancies  Glucose  BloodPressure  SkinThickness     Insulin   BMI  \\\n",
            "0          6.0    148.0           72.0           35.0  218.937760  33.6   \n",
            "1          1.0     85.0           66.0           29.0   70.189298  26.6   \n",
            "2          8.0    183.0           64.0           29.0  269.968908  23.3   \n",
            "3          1.0     89.0           66.0           23.0   94.000000  28.1   \n",
            "4          0.0    137.0           40.0           35.0  168.000000  43.1   \n",
            "\n",
            "   DiabetesPedigreeFunction   Age  Outcome  \n",
            "0                     0.627  50.0        1  \n",
            "1                     0.351  31.0        0  \n",
            "2                     0.672  32.0        1  \n",
            "3                     0.167  21.0        0  \n",
            "4                     2.288  33.0        1  \n"
          ]
        }
      ]
    },
    {
      "cell_type": "code",
      "execution_count": 15,
      "metadata": {
        "id": "l0nV0WAraj5R"
      },
      "outputs": [],
      "source": [
        "# seperate the features and the target as x and y \n",
        "x = diabetes.drop('Outcome',axis=1)\n",
        "y = diabetes['Outcome']\n"
      ]
    },
    {
      "cell_type": "code",
      "execution_count": 16,
      "metadata": {
        "id": "n6lOPq_Waj5R",
        "outputId": "534c517f-5ad2-4a7e-e39a-c7124b09dae8",
        "colab": {
          "base_uri": "https://localhost:8080/"
        }
      },
      "outputs": [
        {
          "output_type": "execute_result",
          "data": {
            "text/plain": [
              "Pregnancies                   11.339272\n",
              "Glucose                      928.469828\n",
              "BloodPressure                146.131068\n",
              "SkinThickness                 77.184935\n",
              "Insulin                     9471.909972\n",
              "BMI                           48.750058\n",
              "DiabetesPedigreeFunction       0.109636\n",
              "Age                          138.122964\n",
              "dtype: float64"
            ]
          },
          "metadata": {},
          "execution_count": 16
        }
      ],
      "source": [
        "# Return  the variance for X along the specified axis=0 for calculating independent variance.\n",
        "np.var(x,axis=0)"
      ]
    },
    {
      "cell_type": "code",
      "execution_count": 17,
      "metadata": {
        "id": "8MNaAksOaj5R"
      },
      "outputs": [],
      "source": [
        "# import minmax_scale\n",
        "from sklearn.preprocessing import minmax_scale\n",
        "# use minmax scale with feature_range=(0,10) and columns=X.columns,to scale the features of dataframe and store them into X_scaled_df \n",
        "x_scaled_df = minmax_scale(x,feature_range=(0,10))\n",
        "X_scaled = pd.DataFrame(x_scaled_df,columns=x.columns)"
      ]
    },
    {
      "cell_type": "code",
      "execution_count": 18,
      "metadata": {
        "id": "nMTbpyn1aj5S",
        "outputId": "c774a73c-25dd-476e-8967-15c4e12b0d27",
        "colab": {
          "base_uri": "https://localhost:8080/"
        }
      },
      "outputs": [
        {
          "output_type": "stream",
          "name": "stdout",
          "text": [
            "     Pregnancies   Glucose  BloodPressure  SkinThickness   Insulin       BMI  \\\n",
            "0       3.529412  6.709677       4.897959       3.043478  2.740295  3.149284   \n",
            "1       0.588235  2.645161       4.285714       2.391304  1.018185  1.717791   \n",
            "2       4.705882  8.967742       4.081633       2.391304  3.331099  1.042945   \n",
            "3       0.588235  2.903226       4.285714       1.739130  1.293850  2.024540   \n",
            "4       0.000000  6.000000       1.632653       3.043478  2.150572  5.092025   \n",
            "..           ...       ...            ...            ...       ...       ...   \n",
            "763     5.882353  3.677419       5.306122       4.456522  2.289500  3.006135   \n",
            "764     1.176471  5.032258       4.693878       2.173913  2.044244  3.803681   \n",
            "765     2.941176  4.967742       4.897959       1.739130  1.502241  1.635992   \n",
            "766     0.588235  5.290323       3.673469       2.391304  2.217956  2.433538   \n",
            "767     0.588235  3.161290       4.693878       2.608696  1.215086  2.494888   \n",
            "\n",
            "     DiabetesPedigreeFunction       Age  \n",
            "0                    2.344150  4.833333  \n",
            "1                    1.165670  1.666667  \n",
            "2                    2.536294  1.833333  \n",
            "3                    0.380017  0.000000  \n",
            "4                    9.436379  2.000000  \n",
            "..                        ...       ...  \n",
            "763                  0.397096  7.000000  \n",
            "764                  1.118702  1.000000  \n",
            "765                  0.713066  1.500000  \n",
            "766                  1.157131  4.333333  \n",
            "767                  1.011956  0.333333  \n",
            "\n",
            "[768 rows x 8 columns]\n"
          ]
        }
      ],
      "source": [
        "# return X_scaled_df\n",
        "print(X_scaled)"
      ]
    },
    {
      "cell_type": "code",
      "execution_count": 19,
      "metadata": {
        "id": "6u-fAMvJaj5S",
        "outputId": "ac405832-f63e-4eed-e416-a542471874b2",
        "colab": {
          "base_uri": "https://localhost:8080/"
        }
      },
      "outputs": [
        {
          "output_type": "execute_result",
          "data": {
            "text/plain": [
              "Pregnancies                 3.923624\n",
              "Glucose                     3.864599\n",
              "BloodPressure               1.521565\n",
              "SkinThickness               0.911920\n",
              "Insulin                     1.269563\n",
              "BMI                         2.038719\n",
              "DiabetesPedigreeFunction    1.998841\n",
              "Age                         3.836749\n",
              "dtype: float64"
            ]
          },
          "metadata": {},
          "execution_count": 19
        }
      ],
      "source": [
        "# Again return  the variance for X along the specified axis=0 to check the scales after using minmax scaler.\n",
        "np.var(X_scaled,axis=0)"
      ]
    },
    {
      "cell_type": "code",
      "execution_count": 20,
      "metadata": {
        "id": "F3IWGpEbaj5S",
        "colab": {
          "base_uri": "https://localhost:8080/"
        },
        "outputId": "7ae71e2f-a037-4abf-dd0d-f317a9e002fd"
      },
      "outputs": [
        {
          "output_type": "execute_result",
          "data": {
            "text/plain": [
              "array([ True,  True,  True, False,  True,  True,  True,  True])"
            ]
          },
          "metadata": {},
          "execution_count": 20
        }
      ],
      "source": [
        "## To remove low  variance feature using variance threshold\n",
        "\n",
        "# import variancethreshold\n",
        "\n",
        "from sklearn.feature_selection import VarianceThreshold\n",
        "\n",
        "\n",
        "\n",
        "# set threshold=1 and define it to variable select_features\n",
        "variance_threshold=VarianceThreshold(threshold=1)\n",
        "\n",
        "variance_threshold.fit(X_scaled)\n",
        "variance_threshold.get_support()"
      ]
    },
    {
      "cell_type": "code",
      "execution_count": 21,
      "metadata": {
        "id": "aadXkDVraj5S"
      },
      "outputs": [],
      "source": [
        "constant_columns = [column for column in X_scaled.columns\n",
        "                    if column not in x.columns[variance_threshold.get_support()]]\n"
      ]
    },
    {
      "cell_type": "code",
      "execution_count": 22,
      "metadata": {
        "id": "9ntfGknMaj5T"
      },
      "outputs": [],
      "source": [
        "# Dropping constant columns\n",
        "X_scaled.drop(constant_columns,axis=1,inplace=True)\n",
        "\n"
      ]
    },
    {
      "cell_type": "code",
      "execution_count": 69,
      "metadata": {
        "id": "HRHwdYBaaj5T",
        "outputId": "99eb1052-d548-40de-9df0-eb95499c56e2",
        "colab": {
          "base_uri": "https://localhost:8080/"
        }
      },
      "outputs": [
        {
          "output_type": "stream",
          "name": "stdout",
          "text": [
            "   Pregnancies   Glucose  BloodPressure   Insulin       BMI  \\\n",
            "0     3.529412  6.709677       4.897959  2.740295  3.149284   \n",
            "1     0.588235  2.645161       4.285714  1.018185  1.717791   \n",
            "2     4.705882  8.967742       4.081633  3.331099  1.042945   \n",
            "3     0.588235  2.903226       4.285714  1.293850  2.024540   \n",
            "4     0.000000  6.000000       1.632653  2.150572  5.092025   \n",
            "\n",
            "   DiabetesPedigreeFunction       Age  \n",
            "0                  2.344150  4.833333  \n",
            "1                  1.165670  1.666667  \n",
            "2                  2.536294  1.833333  \n",
            "3                  0.380017  0.000000  \n",
            "4                  9.436379  2.000000  \n",
            "Index(['Pregnancies', 'Glucose', 'BloodPressure', 'Insulin', 'BMI',\n",
            "       'DiabetesPedigreeFunction', 'Age'],\n",
            "      dtype='object')\n"
          ]
        }
      ],
      "source": [
        "# print of head values of X_scaled after dropping constant columns\n",
        "print(X_scaled.head())\n",
        "print(X_scaled.columns)"
      ]
    },
    {
      "cell_type": "markdown",
      "metadata": {
        "id": "2V6CyP2aaj5T"
      },
      "source": [
        "## (c) Chi-Squared statistical test (SelectKBest)\n",
        "\n",
        "\n"
      ]
    },
    {
      "cell_type": "code",
      "execution_count": 24,
      "metadata": {
        "id": "UmRgtjN0aj5U"
      },
      "outputs": [],
      "source": [
        "def generate_feature_scores_df(X,Score):\n",
        "    feature_score=pd.DataFrame()\n",
        "    for i in range(X.shape[1]):\n",
        "        new =pd.DataFrame({\"Features\":X.columns[i],\"Score\":Score[i]},index=[i])\n",
        "        feature_score=pd.concat([feature_score,new])\n",
        "    return feature_score"
      ]
    },
    {
      "cell_type": "code",
      "execution_count": 51,
      "metadata": {
        "id": "bW2PU92Caj5U"
      },
      "outputs": [],
      "source": [
        "# create a data frame named diabetes and load the csv file again\n",
        "diabetes = pd.read_csv(\"/content/diabetes.csv\")"
      ]
    },
    {
      "cell_type": "code",
      "execution_count": 52,
      "metadata": {
        "id": "jp7N5w9Yaj5U"
      },
      "outputs": [],
      "source": [
        "# assign features to X variable and 'outcome' to y variable from the dataframe diabetes\n",
        "\n",
        "x = diabetes.drop('Outcome',axis=1)\n",
        "y = diabetes['Outcome']"
      ]
    },
    {
      "cell_type": "code",
      "execution_count": 53,
      "metadata": {
        "id": "FgA2pq-gaj5U"
      },
      "outputs": [],
      "source": [
        "#import chi2 and SelectKBest\n",
        "from sklearn.feature_selection import SelectKBest\n",
        "from sklearn.feature_selection import chi2\n"
      ]
    },
    {
      "cell_type": "code",
      "execution_count": 54,
      "metadata": {
        "id": "GWrMHlmiaj5U"
      },
      "outputs": [],
      "source": [
        "# converting data cast to a float type.\n",
        "x = x.astype(float)"
      ]
    },
    {
      "cell_type": "code",
      "execution_count": 55,
      "metadata": {
        "id": "H_wSH2eiaj5U"
      },
      "outputs": [],
      "source": [
        "# Initialise SelectKBest with above parameters \n",
        "chi2_test=SelectKBest(chi2,k=4)\n",
        "\n",
        "# fit it with X and Y\n",
        "chi2_model=chi2_test.fit(x,y)\n",
        "\n"
      ]
    },
    {
      "cell_type": "code",
      "execution_count": 56,
      "metadata": {
        "id": "qHmt-de1aj5U",
        "outputId": "879be8f6-f475-4cc3-f6b9-0187c27e28dc",
        "colab": {
          "base_uri": "https://localhost:8080/"
        }
      },
      "outputs": [
        {
          "output_type": "execute_result",
          "data": {
            "text/plain": [
              "array([ 111.51969064, 1411.88704064,   17.60537322,   53.10803984,\n",
              "       2175.56527292,  127.66934333,    5.39268155,  181.30368904])"
            ]
          },
          "metadata": {},
          "execution_count": 56
        }
      ],
      "source": [
        "#print the scores of chi2_model\n",
        "chi2_model.scores_"
      ]
    },
    {
      "cell_type": "code",
      "execution_count": 60,
      "metadata": {
        "id": "DxIBsnJvaj5V",
        "outputId": "b1f83f32-688c-4ca7-b600-1878a13e2363",
        "colab": {
          "base_uri": "https://localhost:8080/",
          "height": 300
        }
      },
      "outputs": [
        {
          "output_type": "execute_result",
          "data": {
            "text/plain": [
              "                   Features        Score\n",
              "0               Pregnancies   111.519691\n",
              "1                   Glucose  1411.887041\n",
              "2             BloodPressure    17.605373\n",
              "3             SkinThickness    53.108040\n",
              "4                   Insulin  2175.565273\n",
              "5                       BMI   127.669343\n",
              "6  DiabetesPedigreeFunction     5.392682\n",
              "7                       Age   181.303689"
            ],
            "text/html": [
              "\n",
              "  <div id=\"df-8d049220-6964-422e-a9dc-19b2403fff2b\">\n",
              "    <div class=\"colab-df-container\">\n",
              "      <div>\n",
              "<style scoped>\n",
              "    .dataframe tbody tr th:only-of-type {\n",
              "        vertical-align: middle;\n",
              "    }\n",
              "\n",
              "    .dataframe tbody tr th {\n",
              "        vertical-align: top;\n",
              "    }\n",
              "\n",
              "    .dataframe thead th {\n",
              "        text-align: right;\n",
              "    }\n",
              "</style>\n",
              "<table border=\"1\" class=\"dataframe\">\n",
              "  <thead>\n",
              "    <tr style=\"text-align: right;\">\n",
              "      <th></th>\n",
              "      <th>Features</th>\n",
              "      <th>Score</th>\n",
              "    </tr>\n",
              "  </thead>\n",
              "  <tbody>\n",
              "    <tr>\n",
              "      <th>0</th>\n",
              "      <td>Pregnancies</td>\n",
              "      <td>111.519691</td>\n",
              "    </tr>\n",
              "    <tr>\n",
              "      <th>1</th>\n",
              "      <td>Glucose</td>\n",
              "      <td>1411.887041</td>\n",
              "    </tr>\n",
              "    <tr>\n",
              "      <th>2</th>\n",
              "      <td>BloodPressure</td>\n",
              "      <td>17.605373</td>\n",
              "    </tr>\n",
              "    <tr>\n",
              "      <th>3</th>\n",
              "      <td>SkinThickness</td>\n",
              "      <td>53.108040</td>\n",
              "    </tr>\n",
              "    <tr>\n",
              "      <th>4</th>\n",
              "      <td>Insulin</td>\n",
              "      <td>2175.565273</td>\n",
              "    </tr>\n",
              "    <tr>\n",
              "      <th>5</th>\n",
              "      <td>BMI</td>\n",
              "      <td>127.669343</td>\n",
              "    </tr>\n",
              "    <tr>\n",
              "      <th>6</th>\n",
              "      <td>DiabetesPedigreeFunction</td>\n",
              "      <td>5.392682</td>\n",
              "    </tr>\n",
              "    <tr>\n",
              "      <th>7</th>\n",
              "      <td>Age</td>\n",
              "      <td>181.303689</td>\n",
              "    </tr>\n",
              "  </tbody>\n",
              "</table>\n",
              "</div>\n",
              "      <button class=\"colab-df-convert\" onclick=\"convertToInteractive('df-8d049220-6964-422e-a9dc-19b2403fff2b')\"\n",
              "              title=\"Convert this dataframe to an interactive table.\"\n",
              "              style=\"display:none;\">\n",
              "        \n",
              "  <svg xmlns=\"http://www.w3.org/2000/svg\" height=\"24px\"viewBox=\"0 0 24 24\"\n",
              "       width=\"24px\">\n",
              "    <path d=\"M0 0h24v24H0V0z\" fill=\"none\"/>\n",
              "    <path d=\"M18.56 5.44l.94 2.06.94-2.06 2.06-.94-2.06-.94-.94-2.06-.94 2.06-2.06.94zm-11 1L8.5 8.5l.94-2.06 2.06-.94-2.06-.94L8.5 2.5l-.94 2.06-2.06.94zm10 10l.94 2.06.94-2.06 2.06-.94-2.06-.94-.94-2.06-.94 2.06-2.06.94z\"/><path d=\"M17.41 7.96l-1.37-1.37c-.4-.4-.92-.59-1.43-.59-.52 0-1.04.2-1.43.59L10.3 9.45l-7.72 7.72c-.78.78-.78 2.05 0 2.83L4 21.41c.39.39.9.59 1.41.59.51 0 1.02-.2 1.41-.59l7.78-7.78 2.81-2.81c.8-.78.8-2.07 0-2.86zM5.41 20L4 18.59l7.72-7.72 1.47 1.35L5.41 20z\"/>\n",
              "  </svg>\n",
              "      </button>\n",
              "      \n",
              "  <style>\n",
              "    .colab-df-container {\n",
              "      display:flex;\n",
              "      flex-wrap:wrap;\n",
              "      gap: 12px;\n",
              "    }\n",
              "\n",
              "    .colab-df-convert {\n",
              "      background-color: #E8F0FE;\n",
              "      border: none;\n",
              "      border-radius: 50%;\n",
              "      cursor: pointer;\n",
              "      display: none;\n",
              "      fill: #1967D2;\n",
              "      height: 32px;\n",
              "      padding: 0 0 0 0;\n",
              "      width: 32px;\n",
              "    }\n",
              "\n",
              "    .colab-df-convert:hover {\n",
              "      background-color: #E2EBFA;\n",
              "      box-shadow: 0px 1px 2px rgba(60, 64, 67, 0.3), 0px 1px 3px 1px rgba(60, 64, 67, 0.15);\n",
              "      fill: #174EA6;\n",
              "    }\n",
              "\n",
              "    [theme=dark] .colab-df-convert {\n",
              "      background-color: #3B4455;\n",
              "      fill: #D2E3FC;\n",
              "    }\n",
              "\n",
              "    [theme=dark] .colab-df-convert:hover {\n",
              "      background-color: #434B5C;\n",
              "      box-shadow: 0px 1px 3px 1px rgba(0, 0, 0, 0.15);\n",
              "      filter: drop-shadow(0px 1px 2px rgba(0, 0, 0, 0.3));\n",
              "      fill: #FFFFFF;\n",
              "    }\n",
              "  </style>\n",
              "\n",
              "      <script>\n",
              "        const buttonEl =\n",
              "          document.querySelector('#df-8d049220-6964-422e-a9dc-19b2403fff2b button.colab-df-convert');\n",
              "        buttonEl.style.display =\n",
              "          google.colab.kernel.accessAllowed ? 'block' : 'none';\n",
              "\n",
              "        async function convertToInteractive(key) {\n",
              "          const element = document.querySelector('#df-8d049220-6964-422e-a9dc-19b2403fff2b');\n",
              "          const dataTable =\n",
              "            await google.colab.kernel.invokeFunction('convertToInteractive',\n",
              "                                                     [key], {});\n",
              "          if (!dataTable) return;\n",
              "\n",
              "          const docLinkHtml = 'Like what you see? Visit the ' +\n",
              "            '<a target=\"_blank\" href=https://colab.research.google.com/notebooks/data_table.ipynb>data table notebook</a>'\n",
              "            + ' to learn more about interactive tables.';\n",
              "          element.innerHTML = '';\n",
              "          dataTable['output_type'] = 'display_data';\n",
              "          await google.colab.output.renderOutput(dataTable, element);\n",
              "          const docLink = document.createElement('div');\n",
              "          docLink.innerHTML = docLinkHtml;\n",
              "          element.appendChild(docLink);\n",
              "        }\n",
              "      </script>\n",
              "    </div>\n",
              "  </div>\n",
              "  "
            ]
          },
          "metadata": {},
          "execution_count": 60
        }
      ],
      "source": [
        "# use generate_feature_scores_df function to get features and their respective scores passing X and chi2_model.scores_ as paramter\n",
        "feature_score_df=generate_feature_scores_df(x,chi2_model.scores_)\n",
        "\n",
        "\n",
        "# return feature_score_df\n",
        "feature_score_df\n"
      ]
    },
    {
      "cell_type": "code",
      "execution_count": 62,
      "metadata": {
        "id": "OYnzsUZsaj5V",
        "colab": {
          "base_uri": "https://localhost:8080/"
        },
        "outputId": "d421f057-e614-49f8-bfee-26b5050d7b50"
      },
      "outputs": [
        {
          "output_type": "stream",
          "name": "stdout",
          "text": [
            "[[148.    0.   33.6  50. ]\n",
            " [ 85.    0.   26.6  31. ]\n",
            " [183.    0.   23.3  32. ]\n",
            " ...\n",
            " [121.  112.   26.2  30. ]\n",
            " [126.    0.   30.1  47. ]\n",
            " [ 93.    0.   30.4  23. ]]\n"
          ]
        }
      ],
      "source": [
        "#Lets get X with selected features of chi2_model using tranform function so we will have X_new\n",
        "X_new= chi2_model.transform(x)\n"
      ]
    },
    {
      "cell_type": "code",
      "execution_count": 87,
      "metadata": {
        "id": "AxKrom8Saj5V"
      },
      "outputs": [],
      "source": [
        "# Convert X_new into a dataframe\n",
        "\n",
        "X_new=pd.DataFrame(X_new)\n"
      ]
    },
    {
      "cell_type": "code",
      "source": [
        "def get_features(raw_df,processed_df):\n",
        "  selected_features = []\n",
        "  for i in range(len(processed_df.columns)):\n",
        "    for j in range(len(raw_df.columns)):\n",
        "      if(processed_df.iloc[:,i].equals(raw_df.iloc[:,j])):\n",
        "        selected_features.append(raw_df.columns[j])\n",
        "  return selected_features"
      ],
      "metadata": {
        "id": "Gbtjgz4Zdp1D"
      },
      "execution_count": 88,
      "outputs": []
    },
    {
      "cell_type": "code",
      "execution_count": 89,
      "metadata": {
        "id": "qlxoLiftaj5V",
        "outputId": "ffbea62f-1e5c-4a21-8c0a-bf21ba70ab49",
        "colab": {
          "base_uri": "https://localhost:8080/"
        }
      },
      "outputs": [
        {
          "output_type": "execute_result",
          "data": {
            "text/plain": [
              "['Glucose', 'Insulin', 'BMI', 'Age']"
            ]
          },
          "metadata": {},
          "execution_count": 89
        }
      ],
      "source": [
        "#repeat the previous steps of calling get_selected_features function( pass X and X_new as score in the function)\n",
        "selected_features=get_features(x,X_new)\n",
        "\n",
        "# return selected_features\n",
        "selected_features"
      ]
    },
    {
      "cell_type": "markdown",
      "metadata": {
        "id": "_3w4MpgOaj5V"
      },
      "source": [
        "Let have X with all features given in list selected_features and save this dataframe in variable chi2_best_features"
      ]
    },
    {
      "cell_type": "code",
      "execution_count": 91,
      "metadata": {
        "id": "9SoTvsRmaj5V",
        "outputId": "5c26b4a6-a727-4d0f-befd-a5ea576dd8f3",
        "colab": {
          "base_uri": "https://localhost:8080/",
          "height": 206
        }
      },
      "outputs": [
        {
          "output_type": "execute_result",
          "data": {
            "text/plain": [
              "   Glucose  Insulin   BMI   Age\n",
              "0    148.0      0.0  33.6  50.0\n",
              "1     85.0      0.0  26.6  31.0\n",
              "2    183.0      0.0  23.3  32.0\n",
              "3     89.0     94.0  28.1  21.0\n",
              "4    137.0    168.0  43.1  33.0"
            ],
            "text/html": [
              "\n",
              "  <div id=\"df-08bb9460-98d1-4140-b7d4-17483d3bac57\">\n",
              "    <div class=\"colab-df-container\">\n",
              "      <div>\n",
              "<style scoped>\n",
              "    .dataframe tbody tr th:only-of-type {\n",
              "        vertical-align: middle;\n",
              "    }\n",
              "\n",
              "    .dataframe tbody tr th {\n",
              "        vertical-align: top;\n",
              "    }\n",
              "\n",
              "    .dataframe thead th {\n",
              "        text-align: right;\n",
              "    }\n",
              "</style>\n",
              "<table border=\"1\" class=\"dataframe\">\n",
              "  <thead>\n",
              "    <tr style=\"text-align: right;\">\n",
              "      <th></th>\n",
              "      <th>Glucose</th>\n",
              "      <th>Insulin</th>\n",
              "      <th>BMI</th>\n",
              "      <th>Age</th>\n",
              "    </tr>\n",
              "  </thead>\n",
              "  <tbody>\n",
              "    <tr>\n",
              "      <th>0</th>\n",
              "      <td>148.0</td>\n",
              "      <td>0.0</td>\n",
              "      <td>33.6</td>\n",
              "      <td>50.0</td>\n",
              "    </tr>\n",
              "    <tr>\n",
              "      <th>1</th>\n",
              "      <td>85.0</td>\n",
              "      <td>0.0</td>\n",
              "      <td>26.6</td>\n",
              "      <td>31.0</td>\n",
              "    </tr>\n",
              "    <tr>\n",
              "      <th>2</th>\n",
              "      <td>183.0</td>\n",
              "      <td>0.0</td>\n",
              "      <td>23.3</td>\n",
              "      <td>32.0</td>\n",
              "    </tr>\n",
              "    <tr>\n",
              "      <th>3</th>\n",
              "      <td>89.0</td>\n",
              "      <td>94.0</td>\n",
              "      <td>28.1</td>\n",
              "      <td>21.0</td>\n",
              "    </tr>\n",
              "    <tr>\n",
              "      <th>4</th>\n",
              "      <td>137.0</td>\n",
              "      <td>168.0</td>\n",
              "      <td>43.1</td>\n",
              "      <td>33.0</td>\n",
              "    </tr>\n",
              "  </tbody>\n",
              "</table>\n",
              "</div>\n",
              "      <button class=\"colab-df-convert\" onclick=\"convertToInteractive('df-08bb9460-98d1-4140-b7d4-17483d3bac57')\"\n",
              "              title=\"Convert this dataframe to an interactive table.\"\n",
              "              style=\"display:none;\">\n",
              "        \n",
              "  <svg xmlns=\"http://www.w3.org/2000/svg\" height=\"24px\"viewBox=\"0 0 24 24\"\n",
              "       width=\"24px\">\n",
              "    <path d=\"M0 0h24v24H0V0z\" fill=\"none\"/>\n",
              "    <path d=\"M18.56 5.44l.94 2.06.94-2.06 2.06-.94-2.06-.94-.94-2.06-.94 2.06-2.06.94zm-11 1L8.5 8.5l.94-2.06 2.06-.94-2.06-.94L8.5 2.5l-.94 2.06-2.06.94zm10 10l.94 2.06.94-2.06 2.06-.94-2.06-.94-.94-2.06-.94 2.06-2.06.94z\"/><path d=\"M17.41 7.96l-1.37-1.37c-.4-.4-.92-.59-1.43-.59-.52 0-1.04.2-1.43.59L10.3 9.45l-7.72 7.72c-.78.78-.78 2.05 0 2.83L4 21.41c.39.39.9.59 1.41.59.51 0 1.02-.2 1.41-.59l7.78-7.78 2.81-2.81c.8-.78.8-2.07 0-2.86zM5.41 20L4 18.59l7.72-7.72 1.47 1.35L5.41 20z\"/>\n",
              "  </svg>\n",
              "      </button>\n",
              "      \n",
              "  <style>\n",
              "    .colab-df-container {\n",
              "      display:flex;\n",
              "      flex-wrap:wrap;\n",
              "      gap: 12px;\n",
              "    }\n",
              "\n",
              "    .colab-df-convert {\n",
              "      background-color: #E8F0FE;\n",
              "      border: none;\n",
              "      border-radius: 50%;\n",
              "      cursor: pointer;\n",
              "      display: none;\n",
              "      fill: #1967D2;\n",
              "      height: 32px;\n",
              "      padding: 0 0 0 0;\n",
              "      width: 32px;\n",
              "    }\n",
              "\n",
              "    .colab-df-convert:hover {\n",
              "      background-color: #E2EBFA;\n",
              "      box-shadow: 0px 1px 2px rgba(60, 64, 67, 0.3), 0px 1px 3px 1px rgba(60, 64, 67, 0.15);\n",
              "      fill: #174EA6;\n",
              "    }\n",
              "\n",
              "    [theme=dark] .colab-df-convert {\n",
              "      background-color: #3B4455;\n",
              "      fill: #D2E3FC;\n",
              "    }\n",
              "\n",
              "    [theme=dark] .colab-df-convert:hover {\n",
              "      background-color: #434B5C;\n",
              "      box-shadow: 0px 1px 3px 1px rgba(0, 0, 0, 0.15);\n",
              "      filter: drop-shadow(0px 1px 2px rgba(0, 0, 0, 0.3));\n",
              "      fill: #FFFFFF;\n",
              "    }\n",
              "  </style>\n",
              "\n",
              "      <script>\n",
              "        const buttonEl =\n",
              "          document.querySelector('#df-08bb9460-98d1-4140-b7d4-17483d3bac57 button.colab-df-convert');\n",
              "        buttonEl.style.display =\n",
              "          google.colab.kernel.accessAllowed ? 'block' : 'none';\n",
              "\n",
              "        async function convertToInteractive(key) {\n",
              "          const element = document.querySelector('#df-08bb9460-98d1-4140-b7d4-17483d3bac57');\n",
              "          const dataTable =\n",
              "            await google.colab.kernel.invokeFunction('convertToInteractive',\n",
              "                                                     [key], {});\n",
              "          if (!dataTable) return;\n",
              "\n",
              "          const docLinkHtml = 'Like what you see? Visit the ' +\n",
              "            '<a target=\"_blank\" href=https://colab.research.google.com/notebooks/data_table.ipynb>data table notebook</a>'\n",
              "            + ' to learn more about interactive tables.';\n",
              "          element.innerHTML = '';\n",
              "          dataTable['output_type'] = 'display_data';\n",
              "          await google.colab.output.renderOutput(dataTable, element);\n",
              "          const docLink = document.createElement('div');\n",
              "          docLink.innerHTML = docLinkHtml;\n",
              "          element.appendChild(docLink);\n",
              "        }\n",
              "      </script>\n",
              "    </div>\n",
              "  </div>\n",
              "  "
            ]
          },
          "metadata": {},
          "execution_count": 91
        }
      ],
      "source": [
        "\n",
        "chi2_best_features = x[selected_features]\n",
        "# print chi2_best_features.head()\n",
        "chi2_best_features.head()"
      ]
    },
    {
      "cell_type": "markdown",
      "metadata": {
        "id": "I2j93v-Oaj5W"
      },
      "source": [
        "## (d) Anova-F Test\n"
      ]
    },
    {
      "cell_type": "code",
      "execution_count": 94,
      "metadata": {
        "id": "Y7s1Oh3gaj5W"
      },
      "outputs": [],
      "source": [
        "#import libraries\n",
        "from sklearn.feature_selection import f_classif,SelectPercentile\n",
        "\n",
        "\n",
        "# Initialise SelectPercentile function with parameters f_classif and percentile as 80\n",
        "Anova_test= SelectPercentile(percentile=80)\n",
        "\n",
        "\n",
        "\n",
        "#Fit the above object to the features and target i.e X and Y\n",
        "Anova_model=Anova_test.fit(x,y)\n"
      ]
    },
    {
      "cell_type": "code",
      "execution_count": 96,
      "metadata": {
        "id": "lcOtctQRaj5W",
        "outputId": "a7293136-b45b-4b40-c394-285d281bdf6a",
        "colab": {
          "base_uri": "https://localhost:8080/"
        }
      },
      "outputs": [
        {
          "output_type": "stream",
          "name": "stdout",
          "text": [
            "[ 39.67022739 213.16175218   3.2569504    4.30438091  13.28110753\n",
            "  71.7720721   23.8713002   46.14061124]\n"
          ]
        }
      ],
      "source": [
        "# return scores of anova model\n",
        "print(Anova_model.scores_)"
      ]
    },
    {
      "cell_type": "code",
      "execution_count": 98,
      "metadata": {
        "id": "Q3MdcIaYaj5W",
        "outputId": "ca3ba25b-0e70-47d1-e59c-7a80b8adb1ae",
        "colab": {
          "base_uri": "https://localhost:8080/"
        }
      },
      "outputs": [
        {
          "output_type": "stream",
          "name": "stdout",
          "text": [
            "                   Features       Score\n",
            "0               Pregnancies   39.670227\n",
            "1                   Glucose  213.161752\n",
            "2             BloodPressure    3.256950\n",
            "3             SkinThickness    4.304381\n",
            "4                   Insulin   13.281108\n",
            "5                       BMI   71.772072\n",
            "6  DiabetesPedigreeFunction   23.871300\n",
            "7                       Age   46.140611\n"
          ]
        }
      ],
      "source": [
        "# use generate_feature_scores_df function to get features and their respective scores by passing X and Anova_model.scores_ as score in function \n",
        "\n",
        "feature_scores_df=generate_feature_scores_df(x,Anova_model.scores_)\n",
        "# print feature_scores_df\n",
        "print(feature_scores_df)"
      ]
    },
    {
      "cell_type": "code",
      "execution_count": 101,
      "metadata": {
        "id": "eFIINZknaj5X",
        "colab": {
          "base_uri": "https://localhost:8080/"
        },
        "outputId": "5068e5f0-a5e3-424f-8283-bb69b3b80f34"
      },
      "outputs": [
        {
          "output_type": "stream",
          "name": "stdout",
          "text": [
            "[0 1 4 5 6 7]\n"
          ]
        }
      ],
      "source": [
        "# Get all supported columns values in Anova_model with indices=True\n",
        "cols = Anova_model.get_support(indices=True)\n",
        "print(cols)\n",
        "# Reduce X to the selected features of anova model using tranform \n",
        "\n",
        "X_new = x.iloc[:,cols]\n",
        "\n"
      ]
    },
    {
      "cell_type": "code",
      "execution_count": 102,
      "metadata": {
        "id": "JtxC3TVJaj5X",
        "outputId": "9d9e1112-6e2f-45e5-96af-c53231b9bbc2",
        "colab": {
          "base_uri": "https://localhost:8080/",
          "height": 206
        }
      },
      "outputs": [
        {
          "output_type": "execute_result",
          "data": {
            "text/plain": [
              "   Pregnancies  Glucose  Insulin   BMI  DiabetesPedigreeFunction   Age\n",
              "0          6.0    148.0      0.0  33.6                     0.627  50.0\n",
              "1          1.0     85.0      0.0  26.6                     0.351  31.0\n",
              "2          8.0    183.0      0.0  23.3                     0.672  32.0\n",
              "3          1.0     89.0     94.0  28.1                     0.167  21.0\n",
              "4          0.0    137.0    168.0  43.1                     2.288  33.0"
            ],
            "text/html": [
              "\n",
              "  <div id=\"df-e3cbc10e-111b-4e24-ad57-852ceed03cea\">\n",
              "    <div class=\"colab-df-container\">\n",
              "      <div>\n",
              "<style scoped>\n",
              "    .dataframe tbody tr th:only-of-type {\n",
              "        vertical-align: middle;\n",
              "    }\n",
              "\n",
              "    .dataframe tbody tr th {\n",
              "        vertical-align: top;\n",
              "    }\n",
              "\n",
              "    .dataframe thead th {\n",
              "        text-align: right;\n",
              "    }\n",
              "</style>\n",
              "<table border=\"1\" class=\"dataframe\">\n",
              "  <thead>\n",
              "    <tr style=\"text-align: right;\">\n",
              "      <th></th>\n",
              "      <th>Pregnancies</th>\n",
              "      <th>Glucose</th>\n",
              "      <th>Insulin</th>\n",
              "      <th>BMI</th>\n",
              "      <th>DiabetesPedigreeFunction</th>\n",
              "      <th>Age</th>\n",
              "    </tr>\n",
              "  </thead>\n",
              "  <tbody>\n",
              "    <tr>\n",
              "      <th>0</th>\n",
              "      <td>6.0</td>\n",
              "      <td>148.0</td>\n",
              "      <td>0.0</td>\n",
              "      <td>33.6</td>\n",
              "      <td>0.627</td>\n",
              "      <td>50.0</td>\n",
              "    </tr>\n",
              "    <tr>\n",
              "      <th>1</th>\n",
              "      <td>1.0</td>\n",
              "      <td>85.0</td>\n",
              "      <td>0.0</td>\n",
              "      <td>26.6</td>\n",
              "      <td>0.351</td>\n",
              "      <td>31.0</td>\n",
              "    </tr>\n",
              "    <tr>\n",
              "      <th>2</th>\n",
              "      <td>8.0</td>\n",
              "      <td>183.0</td>\n",
              "      <td>0.0</td>\n",
              "      <td>23.3</td>\n",
              "      <td>0.672</td>\n",
              "      <td>32.0</td>\n",
              "    </tr>\n",
              "    <tr>\n",
              "      <th>3</th>\n",
              "      <td>1.0</td>\n",
              "      <td>89.0</td>\n",
              "      <td>94.0</td>\n",
              "      <td>28.1</td>\n",
              "      <td>0.167</td>\n",
              "      <td>21.0</td>\n",
              "    </tr>\n",
              "    <tr>\n",
              "      <th>4</th>\n",
              "      <td>0.0</td>\n",
              "      <td>137.0</td>\n",
              "      <td>168.0</td>\n",
              "      <td>43.1</td>\n",
              "      <td>2.288</td>\n",
              "      <td>33.0</td>\n",
              "    </tr>\n",
              "  </tbody>\n",
              "</table>\n",
              "</div>\n",
              "      <button class=\"colab-df-convert\" onclick=\"convertToInteractive('df-e3cbc10e-111b-4e24-ad57-852ceed03cea')\"\n",
              "              title=\"Convert this dataframe to an interactive table.\"\n",
              "              style=\"display:none;\">\n",
              "        \n",
              "  <svg xmlns=\"http://www.w3.org/2000/svg\" height=\"24px\"viewBox=\"0 0 24 24\"\n",
              "       width=\"24px\">\n",
              "    <path d=\"M0 0h24v24H0V0z\" fill=\"none\"/>\n",
              "    <path d=\"M18.56 5.44l.94 2.06.94-2.06 2.06-.94-2.06-.94-.94-2.06-.94 2.06-2.06.94zm-11 1L8.5 8.5l.94-2.06 2.06-.94-2.06-.94L8.5 2.5l-.94 2.06-2.06.94zm10 10l.94 2.06.94-2.06 2.06-.94-2.06-.94-.94-2.06-.94 2.06-2.06.94z\"/><path d=\"M17.41 7.96l-1.37-1.37c-.4-.4-.92-.59-1.43-.59-.52 0-1.04.2-1.43.59L10.3 9.45l-7.72 7.72c-.78.78-.78 2.05 0 2.83L4 21.41c.39.39.9.59 1.41.59.51 0 1.02-.2 1.41-.59l7.78-7.78 2.81-2.81c.8-.78.8-2.07 0-2.86zM5.41 20L4 18.59l7.72-7.72 1.47 1.35L5.41 20z\"/>\n",
              "  </svg>\n",
              "      </button>\n",
              "      \n",
              "  <style>\n",
              "    .colab-df-container {\n",
              "      display:flex;\n",
              "      flex-wrap:wrap;\n",
              "      gap: 12px;\n",
              "    }\n",
              "\n",
              "    .colab-df-convert {\n",
              "      background-color: #E8F0FE;\n",
              "      border: none;\n",
              "      border-radius: 50%;\n",
              "      cursor: pointer;\n",
              "      display: none;\n",
              "      fill: #1967D2;\n",
              "      height: 32px;\n",
              "      padding: 0 0 0 0;\n",
              "      width: 32px;\n",
              "    }\n",
              "\n",
              "    .colab-df-convert:hover {\n",
              "      background-color: #E2EBFA;\n",
              "      box-shadow: 0px 1px 2px rgba(60, 64, 67, 0.3), 0px 1px 3px 1px rgba(60, 64, 67, 0.15);\n",
              "      fill: #174EA6;\n",
              "    }\n",
              "\n",
              "    [theme=dark] .colab-df-convert {\n",
              "      background-color: #3B4455;\n",
              "      fill: #D2E3FC;\n",
              "    }\n",
              "\n",
              "    [theme=dark] .colab-df-convert:hover {\n",
              "      background-color: #434B5C;\n",
              "      box-shadow: 0px 1px 3px 1px rgba(0, 0, 0, 0.15);\n",
              "      filter: drop-shadow(0px 1px 2px rgba(0, 0, 0, 0.3));\n",
              "      fill: #FFFFFF;\n",
              "    }\n",
              "  </style>\n",
              "\n",
              "      <script>\n",
              "        const buttonEl =\n",
              "          document.querySelector('#df-e3cbc10e-111b-4e24-ad57-852ceed03cea button.colab-df-convert');\n",
              "        buttonEl.style.display =\n",
              "          google.colab.kernel.accessAllowed ? 'block' : 'none';\n",
              "\n",
              "        async function convertToInteractive(key) {\n",
              "          const element = document.querySelector('#df-e3cbc10e-111b-4e24-ad57-852ceed03cea');\n",
              "          const dataTable =\n",
              "            await google.colab.kernel.invokeFunction('convertToInteractive',\n",
              "                                                     [key], {});\n",
              "          if (!dataTable) return;\n",
              "\n",
              "          const docLinkHtml = 'Like what you see? Visit the ' +\n",
              "            '<a target=\"_blank\" href=https://colab.research.google.com/notebooks/data_table.ipynb>data table notebook</a>'\n",
              "            + ' to learn more about interactive tables.';\n",
              "          element.innerHTML = '';\n",
              "          dataTable['output_type'] = 'display_data';\n",
              "          await google.colab.output.renderOutput(dataTable, element);\n",
              "          const docLink = document.createElement('div');\n",
              "          docLink.innerHTML = docLinkHtml;\n",
              "          element.appendChild(docLink);\n",
              "        }\n",
              "      </script>\n",
              "    </div>\n",
              "  </div>\n",
              "  "
            ]
          },
          "metadata": {},
          "execution_count": 102
        }
      ],
      "source": [
        "#print X_new.head()\n",
        "X_new.head()"
      ]
    }
  ],
  "metadata": {
    "colab": {
      "name": "Feature Selection.ipynb",
      "provenance": [],
      "collapsed_sections": [
        "Sc4xLItMaj5X",
        "L56IuvrKaj5b"
      ]
    },
    "kernelspec": {
      "display_name": "Python 3",
      "language": "python",
      "name": "python3"
    },
    "language_info": {
      "codemirror_mode": {
        "name": "ipython",
        "version": 3
      },
      "file_extension": ".py",
      "mimetype": "text/x-python",
      "name": "python",
      "nbconvert_exporter": "python",
      "pygments_lexer": "ipython3",
      "version": "3.8.5"
    }
  },
  "nbformat": 4,
  "nbformat_minor": 0
}